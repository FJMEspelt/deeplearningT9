{
 "cells": [
  {
   "cell_type": "code",
   "execution_count": null,
   "id": "67ca312c",
   "metadata": {},
   "outputs": [],
   "source": [
    "from src.data_utils import make_generators\n",
    "from src.model_zoo import fine_tune_mobilenet  # or deep_cnn\n",
    "from src.train_utils import run_training\n",
    "train_gen, val_gen, _ = make_generators(augment=True)\n",
    "_, _ = run_training(fine_tune_mobilenet,\n",
    "                    train_gen, val_gen,\n",
    "                    model_name=\"data_aug\", epochs=15)\n",
    "                    "
   ]
  }
 ],
 "metadata": {
  "kernelspec": {
   "display_name": "intel_cnn",
   "language": "python",
   "name": "python3"
  },
  "language_info": {
   "name": "python",
   "version": "3.10.16"
  }
 },
 "nbformat": 4,
 "nbformat_minor": 5
}
