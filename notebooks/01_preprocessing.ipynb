{
 "cells": [
  {
   "cell_type": "code",
   "execution_count": null,
   "id": "837e6c6b",
   "metadata": {},
   "outputs": [],
   "source": [
    "# 🔧 Cell 1\n",
    "import numpy as np, cv2, tqdm, pickle, os\n",
    "from src.config import IMG_SIZE, DATA_PROC, DATA_RAW, CLASSES\n",
    "DATA_PROC.mkdir(exist_ok=True)\n"
   ]
  },
  {
   "cell_type": "code",
   "execution_count": null,
   "id": "f64212ae",
   "metadata": {},
   "outputs": [],
   "source": [
    "# 🔧 Cell 2 – convert to numpy arrays (takes a few minutes)\n",
    "def load_split(folder):\n",
    "    X, y = [], []\n",
    "    for idx, cls in enumerate(CLASSES):\n",
    "        for img_path in tqdm.tqdm((DATA_RAW/folder/cls).glob(\"*.jpg\"),\n",
    "                                  desc=f\"{folder}-{cls}\"):\n",
    "            im = cv2.imread(str(img_path))\n",
    "            im = cv2.resize(im, IMG_SIZE)\n",
    "            X.append(im);  y.append(idx)\n",
    "    return np.array(X), np.array(y)\n",
    "\n",
    "for split in (\"seg_train\", \"seg_test\"):\n",
    "    X, y = load_split(split)\n",
    "    np.save(DATA_PROC/f\"{split}_X.npy\", X)\n",
    "    np.save(DATA_PROC/f\"{split}_y.npy\", y)\n"
   ]
  }
 ],
 "metadata": {
  "kernelspec": {
   "display_name": "intel_cnn",
   "language": "python",
   "name": "python3"
  },
  "language_info": {
   "name": "python",
   "version": "3.10.16"
  }
 },
 "nbformat": 4,
 "nbformat_minor": 5
}
