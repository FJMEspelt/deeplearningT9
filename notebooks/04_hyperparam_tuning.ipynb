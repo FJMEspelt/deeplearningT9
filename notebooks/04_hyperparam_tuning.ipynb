{
 "cells": [
  {
   "cell_type": "code",
   "execution_count": null,
   "id": "cb11a19c",
   "metadata": {},
   "outputs": [],
   "source": [
    "import keras_tuner as kt, tensorflow as tf\n",
    "from src.data_utils import make_generators\n",
    "from src.config import IMG_SIZE, N_CLASSES, MODELS, HISTORIES\n",
    "from tensorflow.keras import layers\n",
    "\n",
    "# 🔧 build function for tuner\n",
    "def model_builder(hp):\n",
    "    m = tf.keras.Sequential()\n",
    "    m.add(layers.Input(shape=(*IMG_SIZE,3)))\n",
    "    for i in range(hp.Int(\"conv_blocks\", 2, 4)):\n",
    "        filters = hp.Choice(f\"filters_{i}\", [32, 64, 128])\n",
    "        m.add(layers.Conv2D(filters, (3,3), activation='relu', padding='same'))\n",
    "        m.add(layers.MaxPooling2D())\n",
    "    m.add(layers.Flatten())\n",
    "    m.add(layers.Dense(hp.Int(\"dense_units\", 64, 256, step=64),\n",
    "                       activation='relu'))\n",
    "    m.add(layers.Dropout(hp.Float(\"dropout\", 0.2, 0.5, step=0.1)))\n",
    "    m.add(layers.Dense(N_CLASSES, activation='softmax'))\n",
    "    m.compile(\n",
    "        optimizer=tf.keras.optimizers.Adam(\n",
    "            hp.Float(\"lr\", 1e-4, 1e-2, sampling=\"log\")),\n",
    "        loss=\"categorical_crossentropy\",\n",
    "        metrics=[\"accuracy\"])\n",
    "    return m\n",
    "\n",
    "train_gen, val_gen, _ = make_generators()\n",
    "tuner = kt.RandomSearch(model_builder,\n",
    "                        objective=\"val_accuracy\",\n",
    "                        max_trials=20,\n",
    "                        directory=\"kt_logs\", project_name=\"intel\")\n",
    "tuner.search(train_gen, epochs=15, validation_data=val_gen)\n",
    "best_model = tuner.get_best_models(1)[0]\n",
    "best_model.save(MODELS/\"hp.h5\")\n",
    "\n",
    "# save history\n",
    "import json, numpy as np\n",
    "hist = tuner.oracle.get_best_trials(1)[0].metrics.get_history(\"val_accuracy\")\n",
    "json.dump({\"val_accuracy\": hist}, open(HISTORIES/\"hp.json\", \"w\"))\n"
   ]
  }
 ],
 "metadata": {
  "language_info": {
   "name": "python"
  }
 },
 "nbformat": 4,
 "nbformat_minor": 5
}
