{
 "cells": [
  {
   "cell_type": "code",
   "execution_count": null,
   "id": "ac1a2540",
   "metadata": {},
   "outputs": [],
   "source": [
    "# 🔧 Cell 1 – imports\n",
    "import matplotlib.pyplot as plt, seaborn as sns, os\n",
    "from pathlib import Path\n",
    "from collections import Counter\n",
    "from PIL import Image\n",
    "%matplotlib inline\n",
    "RAW = Path(\"../data/raw\")\n"
   ]
  },
  {
   "cell_type": "code",
   "execution_count": null,
   "id": "7ce38cbe",
   "metadata": {},
   "outputs": [],
   "source": [
    "# 🔧 Cell 2 – basic stats\n",
    "train_counts = {cls: len(list((RAW/\"seg_train\"/cls).glob(\"*.jpg\")))\n",
    "                for cls in os.listdir(RAW/\"seg_train\")}\n",
    "test_counts  = {cls: len(list((RAW/\"seg_test\"/cls).glob(\"*.jpg\")))\n",
    "                for cls in os.listdir(RAW/\"seg_test\")}\n",
    "print(\"Train:\", train_counts)\n",
    "print(\"Test :\", test_counts)\n",
    "sns.barplot(x=list(train_counts.keys()), y=list(train_counts.values()))\n",
    "plt.title(\"Images per class (train)\"); plt.xticks(rotation=45); plt.show()\n"
   ]
  },
  {
   "cell_type": "code",
   "execution_count": null,
   "id": "742d81dd",
   "metadata": {},
   "outputs": [],
   "source": [
    "# 🔧 Cell 3 – visual sanity check\n",
    "import random\n",
    "cls = random.choice(list(train_counts))\n",
    "sample = random.choice(list((RAW/\"seg_train\"/cls).glob(\"*.jpg\")))\n",
    "img = Image.open(sample); plt.imshow(img); plt.title(cls); plt.axis(\"off\")\n"
   ]
  }
 ],
 "metadata": {
  "kernelspec": {
   "display_name": "intel_cnn",
   "language": "python",
   "name": "python3"
  },
  "language_info": {
   "name": "python",
   "version": "3.10.16"
  }
 },
 "nbformat": 4,
 "nbformat_minor": 5
}
