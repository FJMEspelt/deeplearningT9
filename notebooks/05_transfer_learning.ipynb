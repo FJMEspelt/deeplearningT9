{
 "cells": [
  {
   "cell_type": "code",
   "execution_count": null,
   "id": "d6fd65c2",
   "metadata": {},
   "outputs": [],
   "source": [
    "from src.data_utils import make_generators\n",
    "from src.model_zoo import fine_tune_mobilenet\n",
    "from src.train_utils import run_training\n",
    "train_gen, val_gen, _ = make_generators()\n",
    "model, _ = run_training(fine_tune_mobilenet,\n",
    "                        train_gen, val_gen,\n",
    "                        model_name=\"fine_tuning\", epochs=10)\n",
    "\n",
    "# second phase – unfreeze further layers\n",
    "for layer in model.layers:\n",
    "    layer.trainable = True\n",
    "model.compile(optimizer=tf.keras.optimizers.Adam(1e-5),\n",
    "              loss='categorical_crossentropy', metrics=['accuracy'])\n",
    "model.fit(train_gen, epochs=5, validation_data=val_gen)\n",
    "model.save(\"saved_models/fine_tuning.h5\")\n"
   ]
  }
 ],
 "metadata": {
  "kernelspec": {
   "display_name": "intel_cnn",
   "language": "python",
   "name": "python3"
  },
  "language_info": {
   "name": "python",
   "version": "3.10.16"
  }
 },
 "nbformat": 4,
 "nbformat_minor": 5
}
