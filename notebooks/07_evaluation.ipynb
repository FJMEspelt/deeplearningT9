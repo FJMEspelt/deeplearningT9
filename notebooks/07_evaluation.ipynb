{
 "cells": [
  {
   "cell_type": "code",
   "execution_count": null,
   "id": "b6e21049",
   "metadata": {},
   "outputs": [],
   "source": [
    "from src.evaluate import main as evaluate_all\n",
    "evaluate_all()\n"
   ]
  },
  {
   "cell_type": "code",
   "execution_count": null,
   "id": "0d262fdf",
   "metadata": {},
   "outputs": [],
   "source": [
    "# 🔧 Cell 2 – final comparison plot\n",
    "import json, matplotlib.pyplot as plt, src.config as C, glob, os\n",
    "for json_file in glob.glob(str(C.HISTORIES/\"*.json\")):\n",
    "    name = os.path.basename(json_file).split(\".\")[0]\n",
    "    hist = json.load(open(json_file))\n",
    "    plt.plot(hist[\"val_accuracy\"], label=name)\n",
    "plt.legend(); plt.ylabel(\"Val Accuracy\"); plt.xlabel(\"Epoch\")\n",
    "plt.title(\"Model comparison – Validation accuracy\")\n",
    "plt.savefig(C.FIGURES/\"val_comparison.png\", dpi=300)\n",
    "plt.show()\n"
   ]
  }
 ],
 "metadata": {
  "kernelspec": {
   "display_name": "intel_cnn",
   "language": "python",
   "name": "python3"
  },
  "language_info": {
   "name": "python",
   "version": "3.10.16"
  }
 },
 "nbformat": 4,
 "nbformat_minor": 5
}
