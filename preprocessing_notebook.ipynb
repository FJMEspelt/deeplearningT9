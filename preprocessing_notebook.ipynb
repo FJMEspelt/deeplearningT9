{
 "cells": [
  {
   "cell_type": "code",
   "execution_count": null,
   "metadata": {},
   "outputs": [],
   "source": [
    "from tensorflow.keras.preprocessing.image import ImageDataGenerator\n",
    "IMG_SIZE = (150, 150)\n",
    "BATCH = 32\n",
    "train_datagen = ImageDataGenerator(\n",
    "    rescale=1./255, validation_split=0.20\n",
    ")\n",
    "train_ds = train_datagen.flow_from_directory(\n",
    "    \"Seg_train\",\n",
    "    target_size=IMG_SIZE,\n",
    "    batch_size=BATCH,\n",
    "    class_mode=\"categorical\",\n",
    "    subset=\"training\", seed=42)\n",
    "val_ds = train_datagen.flow_from_directory(\n",
    "    \"Seg_train\",\n",
    "    target_size=IMG_SIZE,\n",
    "    batch_size=BATCH,\n",
    "    class_mode=\"categorical\",\n",
    "    subset=\"validation\", seed=42)\n",
    "test_datagen = ImageDataGenerator(rescale=1./255)\n",
    "test_ds = test_datagen.flow_from_directory(\n",
    "    \"Seg_test\",\n",
    "    target_size=IMG_SIZE,\n",
    "    batch_size=BATCH,\n",
    "    class_mode=\"categorical\",\n",
    "    shuffle=False)\n"
   ]
  }
 ],
 "metadata": {
  "language_info": {
   "name": "python"
  }
 },
 "nbformat": 4,
 "nbformat_minor": 2
}
